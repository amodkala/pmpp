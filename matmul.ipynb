{
  "nbformat": 4,
  "nbformat_minor": 0,
  "metadata": {
    "colab": {
      "provenance": [],
      "gpuType": "T4",
      "authorship_tag": "ABX9TyMiqTqy/ugcx1Atvp6INMAn",
      "include_colab_link": true
    },
    "kernelspec": {
      "name": "python3",
      "display_name": "Python 3"
    },
    "language_info": {
      "name": "python"
    },
    "accelerator": "GPU"
  },
  "cells": [
    {
      "cell_type": "markdown",
      "metadata": {
        "id": "view-in-github",
        "colab_type": "text"
      },
      "source": [
        "<a href=\"https://colab.research.google.com/github/amodkala/pmpp/blob/master/matmul.ipynb\" target=\"_parent\"><img src=\"https://colab.research.google.com/assets/colab-badge.svg\" alt=\"Open In Colab\"/></a>"
      ]
    },
    {
      "cell_type": "code",
      "source": [
        "!pip install nvcc4jupyter\n",
        "%load_ext nvcc4jupyter"
      ],
      "metadata": {
        "colab": {
          "base_uri": "https://localhost:8080/"
        },
        "id": "6grBOxultV6Y",
        "outputId": "3def108f-d59f-4aeb-f636-24b0c1748f03"
      },
      "execution_count": 2,
      "outputs": [
        {
          "output_type": "stream",
          "name": "stdout",
          "text": [
            "Collecting nvcc4jupyter\n",
            "  Downloading nvcc4jupyter-1.2.1-py3-none-any.whl.metadata (5.1 kB)\n",
            "Downloading nvcc4jupyter-1.2.1-py3-none-any.whl (10 kB)\n",
            "Installing collected packages: nvcc4jupyter\n",
            "Successfully installed nvcc4jupyter-1.2.1\n",
            "Detected platform \"Colab\". Running its setup...\n",
            "Source files will be saved in \"/tmp/tmpc35z04m8\".\n"
          ]
        }
      ]
    },
    {
      "cell_type": "code",
      "execution_count": 6,
      "metadata": {
        "colab": {
          "base_uri": "https://localhost:8080/"
        },
        "id": "97UqiTBwpwbJ",
        "outputId": "28db111a-329b-45f8-ab1b-8fe5aae2478e"
      },
      "outputs": [
        {
          "output_type": "stream",
          "name": "stdout",
          "text": [
            "Initializing matrix A: \n",
            "0.000000 1.000000 2.000000 3.000000 4.000000 5.000000 \n",
            "6.000000 7.000000 8.000000 9.000000 10.000000 11.000000 \n",
            "12.000000 13.000000 14.000000 15.000000 16.000000 17.000000 \n",
            "Initializing matrix B: \n",
            "0.000000 1.000000 2.000000 3.000000 \n",
            "4.000000 5.000000 6.000000 7.000000 \n",
            "8.000000 9.000000 10.000000 11.000000 \n",
            "12.000000 13.000000 14.000000 15.000000 \n",
            "16.000000 17.000000 18.000000 19.000000 \n",
            "20.000000 21.000000 22.000000 23.000000 \n",
            "Matrix C: \n",
            "220.000000 235.000000 250.000000 265.000000 \n",
            "580.000000 631.000000 682.000000 733.000000 \n",
            "940.000000 1027.000000 1114.000000 1201.000000 \n",
            "\n"
          ]
        }
      ],
      "source": [
        "%%cuda\n",
        "\n",
        "/*\n",
        "    This is the most naive implementation of a matmul kernel\n",
        "*/\n",
        "\n",
        "#include <stdio.h>\n",
        "\n",
        "__global__ void matMulKernel(float *A, float *B, float *C, size_t m, size_t n, size_t k) {\n",
        "\n",
        "\t// calculate row and column indices for this thread\n",
        "\tint row = blockIdx.x * blockDim.x + threadIdx.x;\n",
        "\tint col = blockIdx.y * blockDim.y + threadIdx.y;\n",
        "\n",
        "\tif (row >= m || col >= k) {\n",
        "\t\treturn;\n",
        "\t}\n",
        "\n",
        "\tfloat sum = 0.0f;\n",
        "\tfor (int i = 0; i < n; ++i) {\n",
        "\t\tsum += A[row * n + i] * B[i * k + col];\n",
        "\t}\n",
        "\n",
        "\tC[row * k + col] = sum;\n",
        "}\n",
        "\n",
        "void matMul(float *A, float *B, float *C, size_t m, size_t n, size_t k) {\n",
        "\n",
        "\t// allocate device memory for input and output matrices\n",
        "\tfloat *A_d, *B_d, *C_d;\n",
        "\n",
        "\tsize_t A_size = m * n * sizeof(float);\n",
        "\tsize_t B_size = n * k * sizeof(float);\n",
        "\tsize_t C_size = m * k * sizeof(float);\n",
        "\n",
        "\tcudaMalloc((void **) &A_d, A_size);\n",
        "\tcudaMalloc((void **) &B_d, B_size);\n",
        "\tcudaMalloc((void **) &C_d, C_size);\n",
        "\n",
        "\t// copy input matrices to device\n",
        "\tcudaMemcpy(A_d, A, A_size, cudaMemcpyHostToDevice);\n",
        "\tcudaMemcpy(B_d, B, B_size, cudaMemcpyHostToDevice);\n",
        "\n",
        "\t// declare grid/block dimensions\n",
        "\tint n_threads = 16;\n",
        "\tint grid_rows = (m + n_threads - 1) / n_threads;\n",
        "    \tint grid_cols = (k + n_threads - 1) / n_threads;\n",
        "\n",
        "    \tdim3 grid(grid_rows, grid_cols);\n",
        "    \tdim3 block(n_threads, n_threads);\n",
        "\n",
        "\t// call matMul kernel\n",
        "    \tmatMulKernel<<<grid, block>>>(A_d, B_d, C_d, m, n, k);\n",
        "\n",
        "\t// copy output matrix to host\n",
        "\tcudaMemcpy(C, C_d, C_size, cudaMemcpyDeviceToHost);\n",
        "\n",
        "\t// free device memory\n",
        "\tcudaFree(A_d);\n",
        "\tcudaFree(B_d);\n",
        "\tcudaFree(C_d);\n",
        "}\n",
        "\n",
        "int main(int argc, char* argv[]) {\n",
        "\n",
        "\tsize_t m = 3, n = 6, k = 4;\n",
        "\n",
        "\t// declare new matrices\n",
        "\tfloat *A = new float[m * n];\n",
        "\tfloat *B = new float[n * k];\n",
        "\tfloat *C = new float[m * k];\n",
        "\n",
        "\tint e;\n",
        "\n",
        "\tprintf(\"Initializing matrix A: \\n\");\n",
        "\tfor (int i = 0; i < m; ++i) {\n",
        "\t\tfor (int j = 0; j < n; ++j) {\n",
        "\t\t\te = (i*n) + j;\n",
        "\t\t\tA[e] = (float)e;\n",
        "\t\t\tprintf(\"%f \", (float)e);\n",
        "\t\t}\n",
        "\t\tprintf(\"\\n\");\n",
        "\t}\n",
        "\n",
        "\tprintf(\"Initializing matrix B: \\n\");\n",
        "\tfor (int i = 0; i < n; ++i) {\n",
        "\t\tfor (int j = 0; j < k; ++j) {\n",
        "\t\t\te = (i*k) + j;\n",
        "\t\t\tB[e] = (float)e;\n",
        "\t\t\tprintf(\"%f \", (float)e);\n",
        "\t\t}\n",
        "\t\tprintf(\"\\n\");\n",
        "\t}\n",
        "\n",
        "\t// call matMul function\n",
        "\tmatMul(A, B, C, m, n, k);\n",
        "\n",
        "\tprintf(\"Matrix C: \\n\");\n",
        "\tfor (int i = 0; i < m; ++i) {\n",
        "\t\tfor (int j = 0; j < k; ++j) {\n",
        "\t\t\tprintf(\"%f \", C[(i*k) + j]);\n",
        "\t\t}\n",
        "\t\tprintf(\"\\n\");\n",
        "\t}\n",
        "\n",
        "\t// free memory\n",
        "\tdelete[] A;\n",
        "\tdelete[] B;\n",
        "\tdelete[] C;\n",
        "\n",
        "\treturn 0;\n",
        "\n",
        "}"
      ]
    }
  ]
}
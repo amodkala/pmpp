{
  "nbformat": 4,
  "nbformat_minor": 0,
  "metadata": {
    "colab": {
      "provenance": [],
      "gpuType": "T4",
      "authorship_tag": "ABX9TyPX4wIp1X9xK6efWuN/PV/g",
      "include_colab_link": true
    },
    "kernelspec": {
      "name": "python3",
      "display_name": "Python 3"
    },
    "language_info": {
      "name": "python"
    },
    "accelerator": "GPU"
  },
  "cells": [
    {
      "cell_type": "markdown",
      "metadata": {
        "id": "view-in-github",
        "colab_type": "text"
      },
      "source": [
        "<a href=\"https://colab.research.google.com/github/amodkala/pmpp/blob/master/matmul.ipynb\" target=\"_parent\"><img src=\"https://colab.research.google.com/assets/colab-badge.svg\" alt=\"Open In Colab\"/></a>"
      ]
    },
    {
      "cell_type": "code",
      "source": [
        "!pip install nvcc4jupyter\n",
        "%load_ext nvcc4jupyter"
      ],
      "metadata": {
        "id": "6grBOxultV6Y"
      },
      "execution_count": null,
      "outputs": []
    },
    {
      "cell_type": "code",
      "execution_count": null,
      "metadata": {
        "id": "97UqiTBwpwbJ"
      },
      "outputs": [],
      "source": [
        "%%time\n",
        "%%cuda\n",
        "\n",
        "/*\n",
        "    This is the most naive implementation of a matmul kernel\n",
        "*/\n",
        "\n",
        "#include <stdio.h>\n",
        "\n",
        "__global__ void matMulKernel(float *A, float *B, float *C, size_t m, size_t n, size_t k) {\n",
        "\n",
        "\t// calculate row and column indices for this thread\n",
        "\tint row = blockIdx.x * blockDim.x + threadIdx.x;\n",
        "\tint col = blockIdx.y * blockDim.y + threadIdx.y;\n",
        "\n",
        "\tif (row >= m || col >= k) {\n",
        "\t\treturn;\n",
        "\t}\n",
        "\n",
        "\tfloat sum = 0.0f;\n",
        "\tfor (int i = 0; i < n; ++i) {\n",
        "\t\tsum += A[row * n + i] * B[i * k + col];\n",
        "\t}\n",
        "\n",
        "\tC[row * k + col] = sum;\n",
        "}\n",
        "\n",
        "void matMul(float *A, float *B, float *C, size_t m, size_t n, size_t k) {\n",
        "\n",
        "\t// allocate device memory for input and output matrices\n",
        "\tfloat *A_d, *B_d, *C_d;\n",
        "\n",
        "\tsize_t A_size = m * n * sizeof(float);\n",
        "\tsize_t B_size = n * k * sizeof(float);\n",
        "\tsize_t C_size = m * k * sizeof(float);\n",
        "\n",
        "\tcudaMalloc((void **) &A_d, A_size);\n",
        "\tcudaMalloc((void **) &B_d, B_size);\n",
        "\tcudaMalloc((void **) &C_d, C_size);\n",
        "\n",
        "\t// copy input matrices to device\n",
        "\tcudaMemcpy(A_d, A, A_size, cudaMemcpyHostToDevice);\n",
        "\tcudaMemcpy(B_d, B, B_size, cudaMemcpyHostToDevice);\n",
        "\n",
        "\t// declare grid/block dimensions\n",
        "\tint n_threads = 16;\n",
        "\tint grid_rows = (m + n_threads - 1) / n_threads;\n",
        "    \tint grid_cols = (k + n_threads - 1) / n_threads;\n",
        "\n",
        "    \tdim3 grid(grid_rows, grid_cols);\n",
        "    \tdim3 block(n_threads, n_threads);\n",
        "\n",
        "\t// call matMul kernel\n",
        "    \tmatMulKernel<<<grid, block>>>(A_d, B_d, C_d, m, n, k);\n",
        "\n",
        "\t// copy output matrix to host\n",
        "\tcudaMemcpy(C, C_d, C_size, cudaMemcpyDeviceToHost);\n",
        "\n",
        "\t// free device memory\n",
        "\tcudaFree(A_d);\n",
        "\tcudaFree(B_d);\n",
        "\tcudaFree(C_d);\n",
        "}\n",
        "\n",
        "int main(int argc, char* argv[]) {\n",
        "\n",
        "\tsize_t m = 1024, n = 1024, k = 1024;\n",
        "\n",
        "\t// declare new matrices\n",
        "\tfloat *A = new float[m * n];\n",
        "\tfloat *B = new float[n * k];\n",
        "\tfloat *C = new float[m * k];\n",
        "\n",
        "\tint e;\n",
        "\n",
        "\tfor (int i = 0; i < m; ++i) {\n",
        "\t\tfor (int j = 0; j < n; ++j) {\n",
        "\t\t\te = (i*n) + j;\n",
        "\t\t\tA[e] = (float)e;\n",
        "\t\t}\n",
        "\t}\n",
        "\n",
        "\tfor (int i = 0; i < n; ++i) {\n",
        "\t\tfor (int j = 0; j < k; ++j) {\n",
        "\t\t\te = (i*k) + j;\n",
        "\t\t\tB[e] = (float)e;\n",
        "\t\t}\n",
        "\t}\n",
        "\n",
        "\t// call matMul function\n",
        "\tmatMul(A, B, C, m, n, k);\n",
        "\n",
        "\t// free memory\n",
        "\tdelete[] A;\n",
        "\tdelete[] B;\n",
        "\tdelete[] C;\n",
        "\n",
        "\treturn 0;\n",
        "\n",
        "}"
      ]
    }
  ]
}